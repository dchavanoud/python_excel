{
 "cells": [
  {
   "cell_type": "code",
   "execution_count": 1,
   "metadata": {},
   "outputs": [],
   "source": [
    "import xlrd\n",
    "import xlwt"
   ]
  },
  {
   "cell_type": "markdown",
   "metadata": {},
   "source": [
    "# Analyse du fichier Excel \n",
    "## import du fichier"
   ]
  },
  {
   "cell_type": "code",
   "execution_count": 2,
   "metadata": {},
   "outputs": [
    {
     "name": "stdout",
     "output_type": "stream",
     "text": [
      "<xlrd.book.Book object at 0x10673da58>\n",
      "<xlrd.sheet.Sheet object at 0x106769c50>\n"
     ]
    }
   ],
   "source": [
    "wb = xlrd.open_workbook('VAT_file.xlsx')\n",
    "sh = wb.sheet_by_name('Sheet1')\n",
    "\n",
    "print(wb)\n",
    "print(sh)"
   ]
  },
  {
   "cell_type": "code",
   "execution_count": 3,
   "metadata": {},
   "outputs": [
    {
     "name": "stdout",
     "output_type": "stream",
     "text": [
      "['External ID', '__export__.account_move_line_526132', '', '', '', '', '', '', '', '__export__.account_move_line_480396', '', '', '', '', '', '', '__export__.account_move_line_480395', '', '', '', '', '', '']\n",
      "['External ID', 'Journal Entry', '', 'Journal Entry/Journal Items', 'x_reported']\n"
     ]
    }
   ],
   "source": [
    "colgroup = sh.col_values(0)\n",
    "print(colgroup)\n",
    "\n",
    "headers = sh.row_values(0)\n",
    "print(headers)"
   ]
  },
  {
   "cell_type": "markdown",
   "metadata": {},
   "source": [
    "## Analyse du contenu"
   ]
  },
  {
   "cell_type": "code",
   "execution_count": 4,
   "metadata": {},
   "outputs": [
    {
     "name": "stdout",
     "output_type": "stream",
     "text": [
      "[1, 1, 0, 0, 0, 0, 0, 0, 0, 1, 0, 0, 0, 0, 0, 0, 1, 0, 0, 0, 0, 0, 0]\n",
      "23\n"
     ]
    }
   ],
   "source": [
    "analyze1 = [] \n",
    "'''liste correspondant à la première colonne : 1 si non vide, 0 si vide'''\n",
    "\n",
    "for i in range((len(colgroup))):\n",
    "    if colgroup[i]==\"\":\n",
    "        analyze1.append(0)\n",
    "    else:\n",
    "        analyze1.append(1)\n",
    "\n",
    "print(analyze1)\n",
    "print(len(colgroup))"
   ]
  },
  {
   "cell_type": "code",
   "execution_count": 5,
   "metadata": {},
   "outputs": [
    {
     "name": "stdout",
     "output_type": "stream",
     "text": [
      "[1, 0, 0, 0, 0, 0, 0, 0, 0, 0, 1, 1, 1, 1, 1, 1, 0, 0, 1, 1, 1, 1, 1]\n",
      "23\n"
     ]
    }
   ],
   "source": [
    "analyze2 =[]\n",
    "colreport = sh.col_values(4)\n",
    "'''liste correspondant à la 5eme colonne, 1 si non vide, 0 si vide'''\n",
    "\n",
    "for i in range((len(colreport))):\n",
    "    if colreport[i]==\"\":\n",
    "        analyze2.append(0)\n",
    "    else:\n",
    "        analyze2.append(1)\n",
    "\n",
    "print(analyze2)\n",
    "print(len(colreport))"
   ]
  },
  {
   "cell_type": "code",
   "execution_count": 6,
   "metadata": {},
   "outputs": [
    {
     "name": "stdout",
     "output_type": "stream",
     "text": [
      "[1, 1, 0, 0, 0, 0, 0, 0, 0, 1, 0, 0, 0, 0, 0, 0, 1, 0, 0, 0, 0, 0, 0]\n",
      "[1, 0, 0, 0, 0, 0, 0, 0, 0, 0, 1, 1, 1, 1, 1, 1, 0, 0, 1, 1, 1, 1, 1]\n",
      "[1, 2, 2, 2, 2, 2, 2, 2, 2, 3, 3, 3, 3, 3, 3, 3, 4, 4, 4, 4, 4, 4, 4]\n"
     ]
    }
   ],
   "source": [
    "analyze3=[]\n",
    "var = 0\n",
    "'''attribution de valeur à chaque groupe titre/x_reports. 1 header'''\n",
    "\n",
    "for i in range(len(colgroup)-1):\n",
    "    var = var + analyze1[i]\n",
    "    analyze3.append(var)\n",
    "analyze3.append(var)\n",
    "    \n",
    "print(analyze1)\n",
    "print(analyze2)\n",
    "print(analyze3)\n"
   ]
  },
  {
   "cell_type": "code",
   "execution_count": 7,
   "metadata": {},
   "outputs": [
    {
     "name": "stdout",
     "output_type": "stream",
     "text": [
      "[0, 0, 0, 0]\n",
      "[1, 0, 6, 5]\n"
     ]
    }
   ],
   "source": [
    "analyze4=[] \n",
    "groupmax = analyze3[-1]\n",
    "for i in range(groupmax):\n",
    "    analyze4.append(0)\n",
    "print(analyze4)\n",
    "\n",
    "'''dictionnaire de paires (numerogroupe)/(présencevaleur)'''\n",
    "\n",
    "for i in range(len(colgroup)):\n",
    "    if analyze2[i]!=0:\n",
    "        analyze4[analyze3[i]-1]+=1\n",
    "\n",
    "print(analyze4)"
   ]
  },
  {
   "cell_type": "code",
   "execution_count": 8,
   "metadata": {},
   "outputs": [
    {
     "name": "stdout",
     "output_type": "stream",
     "text": [
      "[1, 3, 4]\n"
     ]
    }
   ],
   "source": [
    "analyze5 =[]\n",
    "\n",
    "for i in range(len(analyze4)):\n",
    "    if analyze4[i]!=0:\n",
    "        analyze5.append(i+1)\n",
    "\n",
    "print(analyze5)"
   ]
  },
  {
   "cell_type": "markdown",
   "metadata": {},
   "source": [
    "## Résumé"
   ]
  },
  {
   "cell_type": "code",
   "execution_count": 9,
   "metadata": {},
   "outputs": [
    {
     "name": "stdout",
     "output_type": "stream",
     "text": [
      "[1, 1, 0, 0, 0, 0, 0, 0, 0, 1, 0, 0, 0, 0, 0, 0, 1, 0, 0, 0, 0, 0, 0]\n",
      "[1, 0, 0, 0, 0, 0, 0, 0, 0, 0, 1, 1, 1, 1, 1, 1, 0, 0, 1, 1, 1, 1, 1]\n",
      "[1, 2, 2, 2, 2, 2, 2, 2, 2, 3, 3, 3, 3, 3, 3, 3, 4, 4, 4, 4, 4, 4, 4]\n",
      "[1, 0, 6, 5]\n",
      "[1, 3, 4]\n"
     ]
    }
   ],
   "source": [
    "print(analyze1) # présence d'un élément dans la première colonne\n",
    "print(analyze2) # présence d'un élément dans la 5eme colonne\n",
    "print(analyze3) # répartition à chaque ligne d'un numero de groupe\n",
    "print(analyze4) # donne le nombre de ligne de la 5eme colonne non vide par groupe\n",
    "print(analyze5) # liste des groupes à reporter"
   ]
  },
  {
   "cell_type": "markdown",
   "metadata": {},
   "source": [
    "# Creation d'un fichier de sortie\n",
    "## Creation du fichier vide"
   ]
  },
  {
   "cell_type": "code",
   "execution_count": 10,
   "metadata": {},
   "outputs": [
    {
     "name": "stdout",
     "output_type": "stream",
     "text": [
      "<xlwt.Workbook.Workbook object at 0x106515ef0>\n",
      "<xlwt.Worksheet.Worksheet object at 0x106781080>\n"
     ]
    }
   ],
   "source": [
    "Excel_output = xlwt.Workbook() # Creation du fichier\n",
    "print(Excel_output)\n",
    "\n",
    "new_sheet = Excel_output.add_sheet('Sheet1',True) #second argument : True if overwrite possible\n",
    "print(new_sheet)"
   ]
  },
  {
   "cell_type": "markdown",
   "metadata": {},
   "source": [
    "## Report des lignes à conserver"
   ]
  },
  {
   "cell_type": "code",
   "execution_count": 11,
   "metadata": {},
   "outputs": [
    {
     "name": "stdout",
     "output_type": "stream",
     "text": [
      "['External ID', 'Journal Entry', '', 'Journal Entry/Journal Items', 'x_reported']\n",
      "['__export__.account_move_line_480396', '__export__.account_move_182258', '', '__export__.account_move_line_480398', '']\n",
      "['', '', '', '__export__.account_move_line_480397', 1804.0]\n",
      "['', '', '', '__export__.account_move_line_480396', 1804.0]\n",
      "['', '', '', '__export__.account_move_line_480395', 1804.0]\n",
      "['', '', '', '__export__.account_move_line_480394', 1804.0]\n",
      "['', '', '', '__export__.account_move_line_480393', 1804.0]\n",
      "['', '', '', '__export__.account_move_line_480392', 1804.0]\n",
      "['__export__.account_move_line_480395', '__export__.account_move_182258', '', '__export__.account_move_line_480398', '']\n",
      "['', '', '', '__export__.account_move_line_480397', '']\n",
      "['', '', '', '__export__.account_move_line_480396', 1804.0]\n",
      "['', '', '', '__export__.account_move_line_480395', 1804.0]\n",
      "['', '', '', '__export__.account_move_line_480394', 1804.0]\n",
      "['', '', '', '__export__.account_move_line_480393', 1804.0]\n",
      "['', '', '', '__export__.account_move_line_480392', 1804.0]\n"
     ]
    }
   ],
   "source": [
    "rowmax = len(analyze1) #nombre de lignes à analyser\n",
    "\n",
    "def ajouter_excel(sheet, liste, ligne):\n",
    "    for i in range(len(liste)):\n",
    "        sheet.write(ligne,i,liste[i])\n",
    "\n",
    "ligne_ecriture = 0\n",
    "\n",
    "for i in range(rowmax):\n",
    "    if analyze3[i] in analyze5:\n",
    "        ajouter_excel(new_sheet, sh.row_values(i),ligne_ecriture)\n",
    "        ligne_ecriture += 1\n",
    "        print(sh.row_values(i))"
   ]
  },
  {
   "cell_type": "markdown",
   "metadata": {},
   "source": [
    "## Creation Excel format natif"
   ]
  },
  {
   "cell_type": "code",
   "execution_count": 12,
   "metadata": {},
   "outputs": [],
   "source": [
    "# Save object in a native format Excel file\n",
    "Excel_output.save('Output.xls')"
   ]
  },
  {
   "cell_type": "code",
   "execution_count": null,
   "metadata": {},
   "outputs": [],
   "source": []
  }
 ],
 "metadata": {
  "kernelspec": {
   "display_name": "Python 3",
   "language": "python",
   "name": "python3"
  },
  "language_info": {
   "codemirror_mode": {
    "name": "ipython",
    "version": 3
   },
   "file_extension": ".py",
   "mimetype": "text/x-python",
   "name": "python",
   "nbconvert_exporter": "python",
   "pygments_lexer": "ipython3",
   "version": "3.6.3"
  }
 },
 "nbformat": 4,
 "nbformat_minor": 2
}
