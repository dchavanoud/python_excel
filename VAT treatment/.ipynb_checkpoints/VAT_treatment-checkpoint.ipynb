{
 "cells": [
  {
   "cell_type": "code",
   "execution_count": 1,
   "metadata": {},
   "outputs": [],
   "source": [
    "import xlrd\n",
    "import xlwt"
   ]
  },
  {
   "cell_type": "code",
   "execution_count": 2,
   "metadata": {},
   "outputs": [
    {
     "name": "stdout",
     "output_type": "stream",
     "text": [
      "<xlrd.book.Book object at 0x106859a58>\n",
      "<xlrd.sheet.Sheet object at 0x106887c88>\n"
     ]
    }
   ],
   "source": [
    "wb = xlrd.open_workbook('VAT_file.xlsx')\n",
    "sh = wb.sheet_by_name('Sheet1')\n",
    "\n",
    "print(wb)\n",
    "print(sh)"
   ]
  },
  {
   "cell_type": "code",
   "execution_count": 3,
   "metadata": {},
   "outputs": [
    {
     "name": "stdout",
     "output_type": "stream",
     "text": [
      "['External ID', '__export__.account_move_line_526132', '', '', '', '', '', '', '', '__export__.account_move_line_480396', '', '', '', '', '', '', '__export__.account_move_line_480395', '', '', '', '', '', '']\n",
      "['External ID', 'Journal Entry', '', 'Journal Entry/Journal Items', 'x_reported']\n"
     ]
    }
   ],
   "source": [
    "colgroup = sh.col_values(0)\n",
    "print(colgroup)\n",
    "\n",
    "headers = sh.row_values(0)\n",
    "print(headers)"
   ]
  },
  {
   "cell_type": "code",
   "execution_count": 4,
   "metadata": {},
   "outputs": [
    {
     "name": "stdout",
     "output_type": "stream",
     "text": [
      "[1, 1, 0, 0, 0, 0, 0, 0, 0, 1, 0, 0, 0, 0, 0, 0, 1, 0, 0, 0, 0, 0, 0]\n",
      "23\n"
     ]
    }
   ],
   "source": [
    "analyze1 = [] \n",
    "'''liste correspondant à la première colonne : 1 si non vide, 0 si vide'''\n",
    "\n",
    "for i in range((len(colgroup))):\n",
    "    if colgroup[i]==\"\":\n",
    "        analyze1.append(0)\n",
    "    else:\n",
    "        analyze1.append(1)\n",
    "\n",
    "print(analyze1)\n",
    "print(len(colgroup))"
   ]
  },
  {
   "cell_type": "code",
   "execution_count": 5,
   "metadata": {},
   "outputs": [
    {
     "name": "stdout",
     "output_type": "stream",
     "text": [
      "[1, 0, 0, 0, 0, 0, 0, 0, 0, 0, 1, 1, 1, 1, 1, 1, 0, 0, 1, 1, 1, 1, 1]\n",
      "23\n"
     ]
    }
   ],
   "source": [
    "analyze2 =[]\n",
    "colreport = sh.col_values(4)\n",
    "'''liste correspondant à la 5eme colonne, 1 si non vide, 0 si vide'''\n",
    "\n",
    "for i in range((len(colreport))):\n",
    "    if colreport[i]==\"\":\n",
    "        analyze2.append(0)\n",
    "    else:\n",
    "        analyze2.append(1)\n",
    "\n",
    "print(analyze2)\n",
    "print(len(colreport))"
   ]
  },
  {
   "cell_type": "code",
   "execution_count": 29,
   "metadata": {},
   "outputs": [
    {
     "name": "stdout",
     "output_type": "stream",
     "text": [
      "[1, 1, 0, 0, 0, 0, 0, 0, 0, 1, 0, 0, 0, 0, 0, 0, 1, 0, 0, 0, 0, 0, 0]\n",
      "[1, 0, 0, 0, 0, 0, 0, 0, 0, 0, 1, 1, 1, 1, 1, 1, 0, 0, 1, 1, 1, 1, 1]\n",
      "[1, 2, 2, 2, 2, 2, 2, 2, 2, 3, 3, 3, 3, 3, 3, 3, 4, 4, 4, 4, 4, 4, 4]\n"
     ]
    }
   ],
   "source": [
    "analyze3=[]\n",
    "var = 0\n",
    "'''attribution de valeur à chaque groupe titre/x_reports. 1 header'''\n",
    "\n",
    "for i in range(len(colgroup)-1):\n",
    "    var = var + analyze1[i]\n",
    "    analyze3.append(var)\n",
    "analyze3.append(var)\n",
    "    \n",
    "print(analyze1)\n",
    "print(analyze2)\n",
    "print(analyze3)\n"
   ]
  },
  {
   "cell_type": "code",
   "execution_count": 28,
   "metadata": {},
   "outputs": [
    {
     "name": "stdout",
     "output_type": "stream",
     "text": [
      "[0, 0, 0, 0]\n",
      "[1, 0, 6, 5]\n"
     ]
    }
   ],
   "source": [
    "analyze4=[] \n",
    "for i in range(analyze3[-1]):\n",
    "    analyze4.append(0)\n",
    "print(analyze4)\n",
    "\n",
    "'''dictionnaire de paires (numerogroupe)/(présencevaleur)'''\n",
    "\n",
    "for i in range(len(colgroup)):\n",
    "    if analyze2[i]!=0:\n",
    "        analyze4[analyze3[i]-1]+=1\n",
    "\n",
    "print(analyze4)"
   ]
  },
  {
   "cell_type": "code",
   "execution_count": null,
   "metadata": {},
   "outputs": [],
   "source": []
  }
 ],
 "metadata": {
  "kernelspec": {
   "display_name": "Python 3",
   "language": "python",
   "name": "python3"
  },
  "language_info": {
   "codemirror_mode": {
    "name": "ipython",
    "version": 3
   },
   "file_extension": ".py",
   "mimetype": "text/x-python",
   "name": "python",
   "nbconvert_exporter": "python",
   "pygments_lexer": "ipython3",
   "version": "3.6.3"
  }
 },
 "nbformat": 4,
 "nbformat_minor": 2
}
