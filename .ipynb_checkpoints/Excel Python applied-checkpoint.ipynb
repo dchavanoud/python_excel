{
 "cells": [
  {
   "cell_type": "code",
   "execution_count": 13,
   "metadata": {},
   "outputs": [],
   "source": [
    "import xlrd\n",
    "import xlwt"
   ]
  },
  {
   "cell_type": "markdown",
   "metadata": {},
   "source": [
    "# Ouverture du fichier à traiter"
   ]
  },
  {
   "cell_type": "code",
   "execution_count": 18,
   "metadata": {
    "scrolled": true
   },
   "outputs": [],
   "source": [
    "wb = xlrd.open_workbook('Merci.xlsx') # Ouverture fichier Excel\n",
    "sh = wb.sheet_by_name('Sheet1') # Chargement d'une feuille Excel"
   ]
  },
  {
   "cell_type": "markdown",
   "metadata": {},
   "source": [
    "# Création d'un fichier intermédiaire"
   ]
  },
  {
   "cell_type": "code",
   "execution_count": 17,
   "metadata": {
    "scrolled": true
   },
   "outputs": [],
   "source": [
    "fichier_intermediaire = xlwt.Workbook() #creation fichier intermédiaire\n",
    "feuil1 = fichier_intermediaire.add_sheet('Sheet1') #création de 'Sheet1'"
   ]
  },
  {
   "cell_type": "code",
   "execution_count": 24,
   "metadata": {},
   "outputs": [
    {
     "ename": "TypeError",
     "evalue": "'list' object is not callable",
     "output_type": "error",
     "traceback": [
      "\u001b[0;31m-------------------------------------------------------------------------\u001b[0m",
      "\u001b[0;31mTypeError\u001b[0m                               Traceback (most recent call last)",
      "\u001b[0;32m<ipython-input-24-dbc0b979610d>\u001b[0m in \u001b[0;36m<module>\u001b[0;34m()\u001b[0m\n\u001b[1;32m      2\u001b[0m \u001b[0mligne_lue\u001b[0m \u001b[0;34m=\u001b[0m \u001b[0msh\u001b[0m\u001b[0;34m.\u001b[0m\u001b[0mrow_values\u001b[0m\u001b[0;34m(\u001b[0m\u001b[0;36m0\u001b[0m\u001b[0;34m)\u001b[0m\u001b[0;34m\u001b[0m\u001b[0m\n\u001b[1;32m      3\u001b[0m \u001b[0;32mfor\u001b[0m \u001b[0mi\u001b[0m \u001b[0;32min\u001b[0m \u001b[0mrange\u001b[0m\u001b[0;34m(\u001b[0m\u001b[0mlen\u001b[0m\u001b[0;34m(\u001b[0m\u001b[0mligne_lue\u001b[0m\u001b[0;34m)\u001b[0m\u001b[0;34m)\u001b[0m\u001b[0;34m:\u001b[0m\u001b[0;34m\u001b[0m\u001b[0m\n\u001b[0;32m----> 4\u001b[0;31m     \u001b[0mfeuil1\u001b[0m\u001b[0;34m.\u001b[0m\u001b[0mwrite\u001b[0m\u001b[0;34m(\u001b[0m\u001b[0;36m0\u001b[0m\u001b[0;34m,\u001b[0m\u001b[0mi\u001b[0m\u001b[0;34m,\u001b[0m\u001b[0mstr\u001b[0m\u001b[0;34m(\u001b[0m\u001b[0mligne_lue\u001b[0m\u001b[0;34m(\u001b[0m\u001b[0mi\u001b[0m\u001b[0;34m)\u001b[0m\u001b[0;34m)\u001b[0m\u001b[0;34m)\u001b[0m\u001b[0;34m\u001b[0m\u001b[0m\n\u001b[0m",
      "\u001b[0;31mTypeError\u001b[0m: 'list' object is not callable"
     ]
    }
   ],
   "source": [
    "# Lecture de la première ligne\n",
    "ligne_lue = sh.row_values(0)\n",
    "for i in range(len(ligne_lue)):\n",
    "    feuil1.write(0,i,str(ligne_lue(i)))"
   ]
  },
  {
   "cell_type": "code",
   "execution_count": null,
   "metadata": {},
   "outputs": [],
   "source": [
    "fichier_intermediaire.save('Intermediaire.xls') #creation du fichier intermédiaire"
   ]
  },
  {
   "cell_type": "code",
   "execution_count": null,
   "metadata": {},
   "outputs": [],
   "source": [
    "from xlwt import Workbook\n",
    " \n",
    "# création \n",
    "book = Workbook()\n",
    " \n",
    "# création de la feuille 1\n",
    "feuil1 = book.add_sheet('feuille 1')\n",
    " \n",
    "# ajout des en-têtes\n",
    "feuil1.write(0,0,'id')\n",
    "feuil1.write(0,1,'x')\n",
    "feuil1.write(0,2,'y')\n",
    "feuil1.write(0,3,'test')\n",
    " \n",
    "# ajout des valeurs dans la ligne suivante\n",
    "ligne1 = feuil1.row(1)\n",
    "ligne1.write(0,'1')\n",
    "ligne1.write(1,'235.0')\n",
    "ligne1.write(2,'424.0')\n",
    "ligne1.write(3,'a')\n",
    "etc...\n",
    " \n",
    "# ajustement éventuel de la largeur d'une colonne\n",
    "feuil1.col(0).width = 10000\n",
    " \n",
    "# éventuellement ajout d'une autre feuille 2\n",
    "feuil2 = book.add_sheet('feuille 2')\n",
    " \n",
    "etc...\n",
    " \n",
    " \n",
    "# création matérielle du fichier résultant\n",
    "book.save('monsimple.xls')"
   ]
  },
  {
   "cell_type": "markdown",
   "metadata": {},
   "source": [
    "# Notes"
   ]
  },
  {
   "cell_type": "code",
   "execution_count": null,
   "metadata": {},
   "outputs": [],
   "source": [
    "# ligne ['External ID', 'Journal Entry', '', 'Journal Entry/Journal Items', 'x_reported']\n",
    "liste_test = ['External ID', 'Journal Entry', '', 'Journal Entry/Journal Items', 'x_reported']\n",
    "liste_test_2 = \n",
    "liste_test_3 = \n",
    "\n",
    "def traitement_ligne(row_in_a_list): #réalise les calculs \n",
    "    if row_in_a_list[0] == '':\n",
    "        a = [0]\n",
    "    else:\n",
    "        a = [1]\n",
    "    b = ['Mama']\n",
    "    row_in_a_list = row_in_a_list + a + b\n",
    "    return row_in_a_list\n",
    "\n",
    "print(liste_test)\n",
    "print(traitement_ligne(liste_test))\n"
   ]
  },
  {
   "cell_type": "code",
   "execution_count": null,
   "metadata": {},
   "outputs": [],
   "source": [
    "# Main\n",
    "\n",
    "wb = xlrd.open_workbook('Merci.xlsx')\n",
    "    \n",
    "    \n",
    "    # Boucle sur toutes les lignes du la feuille ouverte\n",
    "        # lit une ligne\n",
    "        # traite la ligne en faisant les calculs (ajoute des cases)\n",
    "    # crée un fichier de destination avec uniquement les en-têtes\n",
    "    # Boucle a nouveau sur toutes les lignes \n",
    "        # regarde si la ligne doit être conservée ou non\n",
    "        # si oui, l'ajoute à la suite dans un nouveau fichier\n",
    "    # créé le fichier et le sauvegarde\n",
    "    "
   ]
  }
 ],
 "metadata": {
  "kernelspec": {
   "display_name": "Python 3",
   "language": "python",
   "name": "python3"
  },
  "language_info": {
   "codemirror_mode": {
    "name": "ipython",
    "version": 3
   },
   "file_extension": ".py",
   "mimetype": "text/x-python",
   "name": "python",
   "nbconvert_exporter": "python",
   "pygments_lexer": "ipython3",
   "version": "3.6.3"
  }
 },
 "nbformat": 4,
 "nbformat_minor": 2
}
