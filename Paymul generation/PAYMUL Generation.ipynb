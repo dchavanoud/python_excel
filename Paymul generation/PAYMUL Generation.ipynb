{
 "cells": [
  {
   "cell_type": "markdown",
   "metadata": {},
   "source": [
    "# PAYMUL generation"
   ]
  },
  {
   "cell_type": "code",
   "execution_count": 1,
   "metadata": {},
   "outputs": [],
   "source": [
    "import xlwt, xlrd"
   ]
  },
  {
   "cell_type": "markdown",
   "metadata": {},
   "source": [
    "## Data.xlsx import"
   ]
  },
  {
   "cell_type": "code",
   "execution_count": 2,
   "metadata": {
    "scrolled": true
   },
   "outputs": [
    {
     "name": "stdout",
     "output_type": "stream",
     "text": [
      "<xlrd.book.Book object at 0x106758c88>\n",
      "['Data', 'Output']\n",
      "<xlrd.sheet.Sheet object at 0x106776e10>\n"
     ]
    }
   ],
   "source": [
    "# Open an Excel file. (xlrd object)\n",
    "wb = xlrd.open_workbook('Data.xlsx')\n",
    "print(wb)\n",
    "\n",
    "# How many sheets in the file? What are their names?\n",
    "print(wb.sheet_names())\n",
    "\n",
    "# An Excel spreadsheet, like an Excel fils, is an xlrd object.\n",
    "sh = wb.sheet_by_name('Data')\n",
    "print(sh)"
   ]
  },
  {
   "cell_type": "markdown",
   "metadata": {},
   "source": [
    "## Excel file reading"
   ]
  },
  {
   "cell_type": "code",
   "execution_count": 3,
   "metadata": {},
   "outputs": [
    {
     "name": "stdout",
     "output_type": "stream",
     "text": [
      "59 6\n",
      "31815.23\n",
      "payref VAJ47DWMRJ0E7LCR\n",
      "paydate 20180914\n",
      "paynotes GBSALES AUG18\n",
      "payacc 71636790:THE STATE51 CONSPIRACY+:::400118\n",
      "uniqref 201849\n",
      "today 20180912\n",
      "71636790:THE STATE51 CONSPIRACY+:::400118\n",
      "71636790\n",
      "THE STATE51 CONSPIRACY\n",
      "400118\n"
     ]
    }
   ],
   "source": [
    "# how many rows and columns in this sheet?\n",
    "print(sh.nrows, sh.ncols)\n",
    "\n",
    "# Transfert lists creation\n",
    "payeeslist = sh.col_values(0)\n",
    "amountlist = sh.col_values(1)\n",
    "banklist = sh.col_values(2)\n",
    "datatransfert = sh.col_values(5)\n",
    "\n",
    "#print(payeeslist)\n",
    "#print(amountlist)\n",
    "#print(banklist)\n",
    "#print(datatransfert)\n",
    "\n",
    "# Values transferts sum   \n",
    "transfertsum = str(round(sum(amountlist[1:]),2))\n",
    "print(transfertsum)\n",
    "\n",
    "# Transfert data creation\n",
    "datatransfertdict = {}\n",
    "datatransfertdict_entries = ['payref', 'paydate', 'paynotes', 'payacc', 'uniqref', 'today']\n",
    "\n",
    "for i in range(len(datatransfertdict_entries)):\n",
    "    datatransfertdict[datatransfertdict_entries[i]] = datatransfert[i]\n",
    "\n",
    "for i in datatransfertdict:\n",
    "    if type(datatransfertdict[i]) != str:\n",
    "        datatransfertdict[i] = str(int(datatransfertdict[i]))\n",
    "        \n",
    "for i in datatransfertdict:\n",
    "    print(i, datatransfertdict[i])\n",
    "    \n",
    "# Payment account \n",
    "payaccount = datatransfertdict['payacc']\n",
    "print(payaccount)\n",
    "payaccsort = payaccount[:8]\n",
    "payaccname = payaccount[9:-10]\n",
    "payaccnum = payaccount[-6:]\n",
    "print(payaccsort)\n",
    "print(payaccname)\n",
    "print(payaccnum)\n"
   ]
  },
  {
   "cell_type": "markdown",
   "metadata": {},
   "source": [
    "## Excel file controls"
   ]
  },
  {
   "cell_type": "code",
   "execution_count": null,
   "metadata": {},
   "outputs": [],
   "source": [
    "\n"
   ]
  },
  {
   "cell_type": "markdown",
   "metadata": {},
   "source": [
    "## Paymul file generation"
   ]
  },
  {
   "cell_type": "code",
   "execution_count": 4,
   "metadata": {},
   "outputs": [
    {
     "name": "stdout",
     "output_type": "stream",
     "text": [
      "<xlwt.Workbook.Workbook object at 0x1067711d0>\n",
      "<xlwt.Worksheet.Worksheet object at 0x106745630>\n"
     ]
    }
   ],
   "source": [
    "# Create an Excel file (xlwt object)\n",
    "outputbook = xlwt.Workbook()\n",
    "print(outputbook)\n",
    "\n",
    "# Create an Excel spreadsheet\n",
    "paymuldata = outputbook.add_sheet('Paymuldata',True) #second argument : True if overwrite possible\n",
    "print(paymuldata)"
   ]
  },
  {
   "cell_type": "markdown",
   "metadata": {},
   "source": [
    "### Header generation"
   ]
  },
  {
   "cell_type": "code",
   "execution_count": 5,
   "metadata": {
    "scrolled": true
   },
   "outputs": [
    {
     "name": "stdout",
     "output_type": "stream",
     "text": [
      "UNB+UNOA:3+::ABC10779001+::HEXAGON ABC+180912:1245+VAJ47DWMRJ0E7LCR'\n",
      "UNH+1+PAYMUL:D:96A:UN:FUN01G'\n",
      "BGM+452+VAJ47DWMRJ0E7LCR+9'\n",
      "DTM+137:20180914:102'\n",
      "LIN+1'\n",
      "DTM+203:20180914:102'\n",
      "RFF+AEK:GBSALES AUG18'\n",
      "MOA+9:31815.23:GBP'\n",
      "FII+OR+71636790:THE STATE51 CONSPIRACY+:::400118:154:133+GB'\n",
      "NAD+OY++THE STATE51 CONSPIRACY:17 HEREFORD STREET :E2 6EX LONDON:UNITED KINGDOM'\n"
     ]
    }
   ],
   "source": [
    "# Exemple\n",
    "#paymuldata.write(0,1,'Names') # ligne,colonne,contenu\n",
    "\n",
    "headerbloc_content = ['UNB+UNOA:3+::ABC10779001+::HEXAGON ABC+' + datatransfertdict['today'][2:8] + ':1245+' + datatransfertdict['payref'] + '\\'',\n",
    "'UNH+1+PAYMUL:D:96A:UN:FUN01G\\'',\n",
    "'BGM+452+' + datatransfertdict['payref']+'+9\\'',\n",
    "'DTM+137:'+datatransfertdict['paydate']+':102\\'',\n",
    "'LIN+1\\'',\n",
    "'DTM+203:'+datatransfertdict['paydate']+':102\\'',\n",
    "'RFF+AEK:'+ datatransfertdict['paynotes']+'\\'',\n",
    "'MOA+9:'+transfertsum+':GBP\\'',\n",
    "'FII+OR+'+datatransfertdict['payacc']+':154:133+GB\\'',\n",
    "'NAD+OY++THE STATE51 CONSPIRACY:17 HEREFORD STREET :E2 6EX LONDON:UNITED KINGDOM\\'']\n",
    "                      \n",
    "for i in range(len(headerbloc_content)):\n",
    "    paymuldata.write(i,0,headerbloc_content[i])\n",
    "    print(headerbloc_content[i])"
   ]
  },
  {
   "cell_type": "markdown",
   "metadata": {},
   "source": [
    "### Content blocks generation"
   ]
  },
  {
   "cell_type": "code",
   "execution_count": 19,
   "metadata": {},
   "outputs": [
    {
     "name": "stdout",
     "output_type": "stream",
     "text": [
      "ROOK FILMS LTD 0.6478 202662 03617785\n",
      "[]\n"
     ]
    }
   ],
   "source": [
    "def transfert_line_treatment(line_num): #int\n",
    "    returnlist =[]\n",
    "    datalist = sh.row_values(line_num)\n",
    "    payeename = datalist[0]\n",
    "    amount = datalist[1]\n",
    "    bankdetail = datalist[2]\n",
    "    print(payeename, amount, bankdetail)\n",
    "    return returnlist\n",
    "\n",
    "print(transfert_line_treatment(1))\n",
    "\n",
    "def add_lines(first, content): #int, int, list\n",
    "    return"
   ]
  },
  {
   "cell_type": "raw",
   "metadata": {},
   "source": [
    "SEQ++1'\n",
    "MOA+9:0.6478:GBP'\n",
    "RFF+CR: 201849'\n",
    "RFF+PQ: 201849'\n",
    "PAI+::2'\n",
    "FCA+13'\n",
    "FII+BF+03617785:ROOK FILMS LTD+:::202662:154:133+GB'\n",
    "NAD+BE++ROOK FILMS LTD: : :UNITED KINGDOM'"
   ]
  },
  {
   "cell_type": "raw",
   "metadata": {},
   "source": [
    "Payment number (always starts by 1, sequential)\n",
    "Payment amount (0.6478)\n",
    "Unique reference (201849)\n",
    "Unique reference (201849)\n",
    "\n",
    "\n",
    "Payment details (Account number: 03617785, Sort code:202662, Beneficiary name: ROOK FILMS LTD (/!\\ beneficiary name must be less than 17 characters and contains no special characters)\n",
    "Beneficiary name: ROOK FILMS LTD (/!\\ beneficiary name must be less than 17 characters and contains no special characters)"
   ]
  },
  {
   "cell_type": "code",
   "execution_count": 11,
   "metadata": {},
   "outputs": [
    {
     "ename": "NameError",
     "evalue": "name 'add_lines' is not defined",
     "output_type": "error",
     "traceback": [
      "\u001b[0;31m---------------------------------------------------------------------------\u001b[0m",
      "\u001b[0;31mNameError\u001b[0m                                 Traceback (most recent call last)",
      "\u001b[0;32m<ipython-input-11-a692d22af120>\u001b[0m in \u001b[0;36m<module>\u001b[0;34m()\u001b[0m\n\u001b[1;32m      1\u001b[0m \u001b[0;32mfor\u001b[0m \u001b[0mi\u001b[0m \u001b[0;32min\u001b[0m \u001b[0mrange\u001b[0m\u001b[0;34m(\u001b[0m\u001b[0msh\u001b[0m\u001b[0;34m.\u001b[0m\u001b[0mnrows\u001b[0m\u001b[0;34m-\u001b[0m\u001b[0;36m1\u001b[0m\u001b[0;34m)\u001b[0m\u001b[0;34m:\u001b[0m\u001b[0;34m\u001b[0m\u001b[0m\n\u001b[0;32m----> 2\u001b[0;31m     \u001b[0madd_lines\u001b[0m\u001b[0;34m(\u001b[0m\u001b[0;36m10\u001b[0m\u001b[0;34m+\u001b[0m\u001b[0;36m8\u001b[0m\u001b[0;34m*\u001b[0m\u001b[0mi\u001b[0m\u001b[0;34m,\u001b[0m\u001b[0mtransfert_line_treatment\u001b[0m\u001b[0;34m(\u001b[0m\u001b[0mi\u001b[0m\u001b[0;34m+\u001b[0m\u001b[0;36m1\u001b[0m\u001b[0;34m)\u001b[0m\u001b[0;34m)\u001b[0m\u001b[0;34m\u001b[0m\u001b[0m\n\u001b[0m",
      "\u001b[0;31mNameError\u001b[0m: name 'add_lines' is not defined"
     ]
    }
   ],
   "source": [
    "for i in range(sh.nrows-1):\n",
    "    add_lines(10+8*i,transfert_line_treatment(i+1))"
   ]
  },
  {
   "cell_type": "markdown",
   "metadata": {},
   "source": [
    "### Footer block generation"
   ]
  },
  {
   "cell_type": "code",
   "execution_count": null,
   "metadata": {},
   "outputs": [],
   "source": []
  },
  {
   "cell_type": "markdown",
   "metadata": {},
   "source": [
    "### Output file .xls format generation"
   ]
  },
  {
   "cell_type": "code",
   "execution_count": 6,
   "metadata": {},
   "outputs": [],
   "source": [
    "# Save object in a native format Excel file\n",
    "outputbook.save('Paymul_output.xls')"
   ]
  },
  {
   "cell_type": "markdown",
   "metadata": {},
   "source": [
    "## Output file controls"
   ]
  },
  {
   "cell_type": "code",
   "execution_count": null,
   "metadata": {},
   "outputs": [],
   "source": []
  }
 ],
 "metadata": {
  "kernelspec": {
   "display_name": "Python 3",
   "language": "python",
   "name": "python3"
  },
  "language_info": {
   "codemirror_mode": {
    "name": "ipython",
    "version": 3
   },
   "file_extension": ".py",
   "mimetype": "text/x-python",
   "name": "python",
   "nbconvert_exporter": "python",
   "pygments_lexer": "ipython3",
   "version": "3.6.3"
  }
 },
 "nbformat": 4,
 "nbformat_minor": 2
}
