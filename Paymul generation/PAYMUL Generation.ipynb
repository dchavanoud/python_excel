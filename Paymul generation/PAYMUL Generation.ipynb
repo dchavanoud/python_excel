{
 "cells": [
  {
   "cell_type": "markdown",
   "metadata": {},
   "source": [
    "# PAYMUL generation\n"
   ]
  },
  {
   "cell_type": "code",
   "execution_count": 1,
   "metadata": {},
   "outputs": [],
   "source": [
    "import xlwt, xlrd"
   ]
  },
  {
   "cell_type": "markdown",
   "metadata": {},
   "source": [
    "## Data.xlsx import"
   ]
  },
  {
   "cell_type": "code",
   "execution_count": 2,
   "metadata": {
    "scrolled": true
   },
   "outputs": [
    {
     "name": "stdout",
     "output_type": "stream",
     "text": [
      "['Data', 'Output']\n"
     ]
    }
   ],
   "source": [
    "# Open an Excel file. (xlrd object)\n",
    "wb = xlrd.open_workbook('Data.xlsx')\n",
    "\n",
    "# How many sheets in the file? What are their names?\n",
    "print(wb.sheet_names())\n",
    "\n",
    "# An Excel spreadsheet, like an Excel fils, is an xlrd object.\n",
    "sh = wb.sheet_by_name('Data')"
   ]
  },
  {
   "cell_type": "markdown",
   "metadata": {},
   "source": [
    "## Excel file reading"
   ]
  },
  {
   "cell_type": "code",
   "execution_count": 3,
   "metadata": {},
   "outputs": [
    {
     "name": "stdout",
     "output_type": "stream",
     "text": [
      "nrows =  59 ncols =  6\n"
     ]
    }
   ],
   "source": [
    "# how many rows and columns in this sheet?\n",
    "print('nrows = ',sh.nrows, 'ncols = ', sh.ncols)\n",
    "\n",
    "# Transfert lists creation\n",
    "payeeslist = sh.col_values(0)\n",
    "amountlist = sh.col_values(1)\n",
    "banklist = sh.col_values(2)\n",
    "datatransfert = sh.col_values(5)\n",
    "\n",
    "# Values transferts sum   \n",
    "transfertsum = str(round(sum(amountlist[1:]),2))\n",
    "\n",
    "# Transfert data creation\n",
    "datatransfertdict = {}\n",
    "datatransfertdict_entries = ['payref', 'paydate', 'paynotes', 'payacc', 'uniqref', 'today']\n",
    "\n",
    "for i in range(len(datatransfertdict_entries)):\n",
    "    datatransfertdict[datatransfertdict_entries[i]] = datatransfert[i]\n",
    "\n",
    "for i in datatransfertdict:\n",
    "    if type(datatransfertdict[i]) != str:\n",
    "        datatransfertdict[i] = str(int(datatransfertdict[i]))\n",
    "        \n",
    "# Payment account \n",
    "payaccount = datatransfertdict['payacc']\n",
    "payaccsort = payaccount[:8]\n",
    "payaccname = payaccount[9:-10]\n",
    "payaccnum = payaccount[-6:]"
   ]
  },
  {
   "cell_type": "markdown",
   "metadata": {},
   "source": [
    "## Excel file controls"
   ]
  },
  {
   "cell_type": "code",
   "execution_count": null,
   "metadata": {},
   "outputs": [],
   "source": [
    "\n"
   ]
  },
  {
   "cell_type": "markdown",
   "metadata": {},
   "source": [
    "## Paymul file generation"
   ]
  },
  {
   "cell_type": "code",
   "execution_count": 4,
   "metadata": {},
   "outputs": [],
   "source": [
    "# Create an Excel file (xlwt object)\n",
    "outputbook = xlwt.Workbook()\n",
    "\n",
    "# Create an Excel spreadsheet\n",
    "paymuldata = outputbook.add_sheet('Paymuldata',True) #second argument : True if overwrite possible"
   ]
  },
  {
   "cell_type": "markdown",
   "metadata": {},
   "source": [
    "### Header generation"
   ]
  },
  {
   "cell_type": "code",
   "execution_count": 5,
   "metadata": {
    "scrolled": true
   },
   "outputs": [],
   "source": [
    "# Header block addition\n",
    "\n",
    "headerbloc_content = ['UNB+UNOA:3+::ABC10779001+::HEXAGON ABC+' + datatransfertdict['today'][2:8] + ':1245+' + datatransfertdict['payref'] + '\\'',\n",
    "'UNH+1+PAYMUL:D:96A:UN:FUN01G\\'',\n",
    "'BGM+452+' + datatransfertdict['payref']+'+9\\'',\n",
    "'DTM+137:'+datatransfertdict['paydate']+':102\\'',\n",
    "'LIN+1\\'',\n",
    "'DTM+203:'+datatransfertdict['paydate']+':102\\'',\n",
    "'RFF+AEK:'+ datatransfertdict['paynotes']+'\\'',\n",
    "'MOA+9:'+transfertsum+':GBP\\'',\n",
    "'FII+OR+'+datatransfertdict['payacc']+':154:133+GB\\'',\n",
    "'NAD+OY++THE STATE51 CONSPIRACY:17 HEREFORD STREET :E2 6EX LONDON:UNITED KINGDOM\\'']\n",
    "                      \n",
    "for i in range(len(headerbloc_content)):\n",
    "    paymuldata.write(i,0,headerbloc_content[i])"
   ]
  },
  {
   "cell_type": "markdown",
   "metadata": {},
   "source": [
    "### Content blocks generation"
   ]
  },
  {
   "cell_type": "code",
   "execution_count": 6,
   "metadata": {},
   "outputs": [],
   "source": [
    "# Blocks addition methods\n",
    "\n",
    "def transfert_line_treatment(line_num): #int, Excel row \n",
    "    returnlist =[]\n",
    "    datalist = sh.row_values(line_num)\n",
    "    \n",
    "    payeename = str(datalist[0])[:17]\n",
    "    amount = str(datalist[1])\n",
    "    bankdetail = str(datalist[2])\n",
    "    sortcode = bankdetail[:6]\n",
    "    accountnumber = bankdetail[-8:]\n",
    "    \n",
    "    returnlist.append('SEQ++'+str(line_num)+'\\'')\n",
    "    returnlist.append('MOA+9:'+amount+':GBP\\'')\n",
    "    returnlist.append('RFF+CR: '+datatransfertdict['uniqref']+'\\'')\n",
    "    returnlist.append('RFF+PQ: '+datatransfertdict['uniqref']+'\\'')\n",
    "    returnlist.append('PAI+::2\\'')\n",
    "    returnlist.append('FCA+13\\'')\n",
    "    returnlist.append('FII+BF+'+accountnumber+':'+payeename+'+:::'+sortcode+':154:133+GB\\'')\n",
    "    returnlist.append('NAD+BE++'+payeename+': : :UNITED KINGDOM\\'')\n",
    "\n",
    "    return returnlist\n",
    "\n",
    "def add_lines(first, content): #int, int, list\n",
    "    for i in range(len(content)):\n",
    "        paymuldata.write(first+i, 0, content[i])"
   ]
  },
  {
   "cell_type": "code",
   "execution_count": 7,
   "metadata": {},
   "outputs": [],
   "source": [
    "# Blocks addition main\n",
    "\n",
    "for i in range(sh.nrows-1):\n",
    "    add_lines(10+8*i,transfert_line_treatment(i+1)) # add blocks after header"
   ]
  },
  {
   "cell_type": "markdown",
   "metadata": {},
   "source": [
    "### Footer block generation"
   ]
  },
  {
   "cell_type": "code",
   "execution_count": 8,
   "metadata": {},
   "outputs": [],
   "source": [
    "nbrows = sh.nrows - 1\n",
    "footerstartline = 10 + 8* nbrows\n",
    "\n",
    "paymuldata.write(footerstartline, 0, 'CNT+39:'+str(nbrows)+'\\'')\n",
    "paymuldata.write(footerstartline+1, 0, 'UNT+475+1\\'')\n",
    "paymuldata.write(footerstartline+2, 0, 'UNZ+1+'+datatransfertdict['payref']+'\\'')"
   ]
  },
  {
   "cell_type": "raw",
   "metadata": {},
   "source": [
    "CNT+39:58'\n",
    "UNT+475+1'\n",
    "UNZ+1+VAJ47DWMRJ0E7LCR'"
   ]
  },
  {
   "cell_type": "raw",
   "metadata": {},
   "source": [
    "Number of payees: 58\n",
    "Number of rows = Row number - 1\n",
    "Payment reference (VAJ47DWMRJ0E7LCR)"
   ]
  },
  {
   "cell_type": "markdown",
   "metadata": {},
   "source": [
    "### Output file .xls format generation"
   ]
  },
  {
   "cell_type": "code",
   "execution_count": 9,
   "metadata": {},
   "outputs": [],
   "source": [
    "# Save object in a native format Excel file\n",
    "outputbook.save('Paymul_output.xls')"
   ]
  },
  {
   "cell_type": "markdown",
   "metadata": {},
   "source": [
    "## Output file controls"
   ]
  },
  {
   "cell_type": "code",
   "execution_count": null,
   "metadata": {},
   "outputs": [],
   "source": []
  }
 ],
 "metadata": {
  "kernelspec": {
   "display_name": "Python 3",
   "language": "python",
   "name": "python3"
  },
  "language_info": {
   "codemirror_mode": {
    "name": "ipython",
    "version": 3
   },
   "file_extension": ".py",
   "mimetype": "text/x-python",
   "name": "python",
   "nbconvert_exporter": "python",
   "pygments_lexer": "ipython3",
   "version": "3.6.3"
  }
 },
 "nbformat": 4,
 "nbformat_minor": 2
}
