{
 "cells": [
  {
   "cell_type": "markdown",
   "metadata": {},
   "source": [
    "## Sources\n",
    "\n",
    "https://xlrd.readthedocs.io/en/latest/  \n",
    "https://xlwt.readthedocs.io/en/latest/  \n",
    "http://www.portailsig.org/content/python-lire-et-ecrire-des-fichiers-microsoft-excel-application-quantum-gis"
   ]
  },
  {
   "cell_type": "code",
   "execution_count": 1,
   "metadata": {},
   "outputs": [],
   "source": [
    "import xlrd\n",
    "import xlwt"
   ]
  },
  {
   "cell_type": "markdown",
   "metadata": {},
   "source": [
    "## Module xlrd"
   ]
  },
  {
   "cell_type": "code",
   "execution_count": 2,
   "metadata": {},
   "outputs": [
    {
     "name": "stdout",
     "output_type": "stream",
     "text": [
      "<xlrd.book.Book object at 0x1067458d0>\n",
      "['Feuil1']\n"
     ]
    }
   ],
   "source": [
    "# Open an Excel file. (xlrd object)\n",
    "wb = xlrd.open_workbook('Excel_tuto.xlsx')\n",
    "print(wb)\n",
    "\n",
    "# How many sheets in the file?\n",
    "print(wb.sheet_names())"
   ]
  },
  {
   "cell_type": "code",
   "execution_count": 3,
   "metadata": {
    "scrolled": true
   },
   "outputs": [
    {
     "name": "stdout",
     "output_type": "stream",
     "text": [
      "<xlrd.sheet.Sheet object at 0x106764fd0>\n",
      "4 3\n",
      "['Nom', 'Prénom', 'Age']\n",
      "['Nom', 'Montagné', \"M'Bappé\", 'Chavanoud']\n",
      "[\"M'Bappé\", 'Kilian', 19.0] ['Prénom', 'Gilbert', 'Kilian', 'Nathan']\n",
      "Kilian\n",
      "Kilian\n",
      "Kilian\n"
     ]
    }
   ],
   "source": [
    "# An Excel spreadsheet, like an Excel fils, is an xlrd object.\n",
    "sh = wb.sheet_by_name('Feuil1')\n",
    "print(sh)\n",
    "\n",
    "# how many rows and columns in this sheet?\n",
    "print(sh.nrows, sh.ncols)\n",
    "\n",
    "# rows and columns values. These values are lists\n",
    "print(sh.row_values(0))\n",
    "print(sh.col_values(0))\n",
    "\n",
    "# Excel cell value\n",
    "ligne2 = sh.row_values(2)\n",
    "colonne1 = sh.col_values(1)\n",
    "print(ligne2, colonne1)\n",
    "print(ligne2[1])\n",
    "print(colonne1[2])\n",
    "print(sh.row_values(2)[1])"
   ]
  },
  {
   "cell_type": "markdown",
   "metadata": {},
   "source": [
    "## Module xlwt"
   ]
  },
  {
   "cell_type": "code",
   "execution_count": 4,
   "metadata": {},
   "outputs": [
    {
     "name": "stdout",
     "output_type": "stream",
     "text": [
      "<xlwt.Workbook.Workbook object at 0x106764d68>\n",
      "<xlwt.Worksheet.Worksheet object at 0x106764e48>\n"
     ]
    }
   ],
   "source": [
    "# Create an Excel file (xlwt object)\n",
    "new_book = xlwt.Workbook()\n",
    "print(new_book)\n",
    "\n",
    "# Create an Excel spreadsheet\n",
    "new_sheet = new_book.add_sheet('New_sheet',True) #second argument : True if overwrite possible\n",
    "print(new_sheet)"
   ]
  },
  {
   "cell_type": "code",
   "execution_count": 5,
   "metadata": {},
   "outputs": [],
   "source": [
    "# Write datas in the sheet\n",
    "new_sheet.write(0,0,'Names')\n",
    "new_sheet.write(0,1,'First Name')"
   ]
  },
  {
   "cell_type": "code",
   "execution_count": 6,
   "metadata": {},
   "outputs": [],
   "source": [
    "# Save object in a native format Excel file\n",
    "new_book.save('New_file.xls')"
   ]
  }
 ],
 "metadata": {
  "kernelspec": {
   "display_name": "Python 3",
   "language": "python",
   "name": "python3"
  },
  "language_info": {
   "codemirror_mode": {
    "name": "ipython",
    "version": 3
   },
   "file_extension": ".py",
   "mimetype": "text/x-python",
   "name": "python",
   "nbconvert_exporter": "python",
   "pygments_lexer": "ipython3",
   "version": "3.6.3"
  }
 },
 "nbformat": 4,
 "nbformat_minor": 2
}
